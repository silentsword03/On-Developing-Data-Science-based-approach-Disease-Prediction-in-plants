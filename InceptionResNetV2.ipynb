{
 "cells": [
  {
   "cell_type": "code",
   "execution_count": 1,
   "id": "9f744aed",
   "metadata": {},
   "outputs": [],
   "source": [
    "import tensorflow as tf\n",
    "\n",
    "gpus = tf.config.list_physical_devices('GPU')\n",
    "if gpus:\n",
    "    try:\n",
    "        # Set GPU memory growth for each GPU\n",
    "        for gpu in gpus:\n",
    "            tf.config.experimental.set_memory_growth(gpu, True)\n",
    "        # Limit GPU memory usage to 60% of total memory\n",
    "        for gpu in gpus:\n",
    "            tf.config.experimental.set_virtual_device_configuration(\n",
    "                gpu,\n",
    "                [tf.config.experimental.VirtualDeviceConfiguration(memory_limit=0.6)])\n",
    "        \n",
    "        # Your model training code goes here\n",
    "        \n",
    "    except RuntimeError as e:\n",
    "        print(e)\n"
   ]
  },
  {
   "cell_type": "code",
   "execution_count": 3,
   "id": "bb8dc86d",
   "metadata": {},
   "outputs": [],
   "source": [
    "import tensorflow as tf\n",
    "from tensorflow.keras.models import Sequential\n",
    "from tensorflow.keras.layers import Dense, GlobalAveragePooling2D\n",
    "from tensorflow.keras.applications import InceptionResNetV2\n",
    "from tensorflow.keras.optimizers import Adam\n",
    "from tensorflow.keras.models import Model\n",
    "\n"
   ]
  },
  {
   "cell_type": "code",
   "execution_count": 4,
   "id": "51a1656e",
   "metadata": {},
   "outputs": [],
   "source": [
    "from tensorflow.keras.preprocessing.image import ImageDataGenerator\n"
   ]
  },
  {
   "cell_type": "code",
   "execution_count": 5,
   "id": "abb953a2",
   "metadata": {},
   "outputs": [],
   "source": [
    "BATCH_SIZE = 16\n",
    "IMAGE_SIZE = (224, 224)\n",
    "CHANNELS = 3\n",
    "EPOCHS = 10"
   ]
  },
  {
   "cell_type": "code",
   "execution_count": 6,
   "id": "fabe1f87",
   "metadata": {},
   "outputs": [],
   "source": [
    "datagen = ImageDataGenerator(\n",
    "    rescale=1./255,\n",
    "    rotation_range=20,\n",
    "    width_shift_range=0.2,\n",
    "    height_shift_range=0.2,\n",
    "    zoom_range=0.2,\n",
    "    horizontal_flip=True,\n",
    "    validation_split=0.2\n",
    ")"
   ]
  },
  {
   "cell_type": "code",
   "execution_count": 7,
   "id": "8842e95b",
   "metadata": {},
   "outputs": [
    {
     "name": "stdout",
     "output_type": "stream",
     "text": [
      "Found 6109 images belonging to 33 classes.\n"
     ]
    }
   ],
   "source": [
    "train_generator = datagen.flow_from_directory(\n",
    "    'C:/Thesis/Shrinked_data2',\n",
    "    target_size=IMAGE_SIZE,\n",
    "    batch_size=BATCH_SIZE,\n",
    "    shuffle=True,\n",
    "    class_mode='sparse',  # Update this line\n",
    "    subset='training'\n",
    ")\n"
   ]
  },
  {
   "cell_type": "code",
   "execution_count": 11,
   "id": "f36575f7",
   "metadata": {},
   "outputs": [
    {
     "name": "stdout",
     "output_type": "stream",
     "text": [
      "Found 1524 images belonging to 33 classes.\n"
     ]
    }
   ],
   "source": [
    "validation_generator = datagen.flow_from_directory(\n",
    "    'C:/Thesis/Shrinked_data2',\n",
    "    target_size=IMAGE_SIZE,\n",
    "    batch_size=BATCH_SIZE,\n",
    "    shuffle=True,\n",
    "    class_mode='sparse',  # Update this line\n",
    "    subset='validation'\n",
    ")\n"
   ]
  },
  {
   "cell_type": "code",
   "execution_count": 12,
   "id": "49f29fa4",
   "metadata": {},
   "outputs": [],
   "source": [
    "test_datagen = ImageDataGenerator(\n",
    "                rescale=1.0/255,\n",
    "                rotation_range=20,\n",
    "                width_shift_range=0.2,\n",
    "                height_shift_range=0.2,\n",
    "                zoom_range=0.2,\n",
    "                horizontal_flip=True)\n"
   ]
  },
  {
   "cell_type": "code",
   "execution_count": 13,
   "id": "21c96982",
   "metadata": {},
   "outputs": [
    {
     "name": "stdout",
     "output_type": "stream",
     "text": [
      "Found 846 images belonging to 33 classes.\n"
     ]
    }
   ],
   "source": [
    "test_data_dir = 'C:\\Thesis\\Test_data'\n",
    "target_size = (224, 224)\n",
    "batch_size = 16\n",
    "\n",
    "test_generator = test_datagen.flow_from_directory(\n",
    "    test_data_dir,\n",
    "    target_size=target_size,\n",
    "    batch_size=batch_size,\n",
    "    shuffle=False,  \n",
    "    class_mode='sparse'\n",
    ")"
   ]
  },
  {
   "cell_type": "code",
   "execution_count": 15,
   "id": "0cece0b6",
   "metadata": {},
   "outputs": [
    {
     "name": "stdout",
     "output_type": "stream",
     "text": [
      "Downloading data from https://storage.googleapis.com/tensorflow/keras-applications/inception_resnet_v2/inception_resnet_v2_weights_tf_dim_ordering_tf_kernels_notop.h5\n",
      "219055592/219055592 [==============================] - 19s 0us/step\n"
     ]
    }
   ],
   "source": [
    "base_model = InceptionResNetV2(weights='imagenet', include_top=False)\n"
   ]
  },
  {
   "cell_type": "code",
   "execution_count": 16,
   "id": "9f94e79e",
   "metadata": {},
   "outputs": [],
   "source": [
    "x = base_model.output\n",
    "x = GlobalAveragePooling2D()(x)\n",
    "x = Dense(1024, activation='relu')(x)\n",
    "predictions = Dense(200, activation='softmax')(x)\n",
    "model = Model(inputs=base_model.input, outputs=predictions)\n"
   ]
  },
  {
   "cell_type": "code",
   "execution_count": 17,
   "id": "f736e536",
   "metadata": {},
   "outputs": [],
   "source": [
    "for layer in base_model.layers:\n",
    "    layer.trainable = False"
   ]
  },
  {
   "cell_type": "code",
   "execution_count": 18,
   "id": "f15128bc",
   "metadata": {},
   "outputs": [],
   "source": [
    "model.compile(optimizer=Adam(), loss='sparse_categorical_crossentropy', metrics=['accuracy'])\n"
   ]
  },
  {
   "cell_type": "code",
   "execution_count": 19,
   "id": "5995da8a",
   "metadata": {},
   "outputs": [
    {
     "name": "stdout",
     "output_type": "stream",
     "text": [
      "Epoch 1/15\n",
      "382/382 [==============================] - 692s 2s/step - loss: 1.3163 - accuracy: 0.6176 - val_loss: 0.8062 - val_accuracy: 0.7480\n",
      "Epoch 2/15\n",
      "382/382 [==============================] - 670s 2s/step - loss: 0.6545 - accuracy: 0.7838 - val_loss: 0.7172 - val_accuracy: 0.7572\n",
      "Epoch 3/15\n",
      "382/382 [==============================] - 701s 2s/step - loss: 0.5533 - accuracy: 0.8155 - val_loss: 0.5752 - val_accuracy: 0.8058\n",
      "Epoch 4/15\n",
      "382/382 [==============================] - 694s 2s/step - loss: 0.4711 - accuracy: 0.8451 - val_loss: 0.4553 - val_accuracy: 0.8432\n",
      "Epoch 5/15\n",
      "382/382 [==============================] - 674s 2s/step - loss: 0.4228 - accuracy: 0.8591 - val_loss: 0.4917 - val_accuracy: 0.8333\n",
      "Epoch 6/15\n",
      "382/382 [==============================] - 672s 2s/step - loss: 0.4063 - accuracy: 0.8635 - val_loss: 0.4727 - val_accuracy: 0.8419\n",
      "Epoch 7/15\n",
      "382/382 [==============================] - 668s 2s/step - loss: 0.3652 - accuracy: 0.8736 - val_loss: 0.5098 - val_accuracy: 0.8346\n",
      "Epoch 8/15\n",
      "382/382 [==============================] - 669s 2s/step - loss: 0.3719 - accuracy: 0.8713 - val_loss: 0.4100 - val_accuracy: 0.8602\n",
      "Epoch 9/15\n",
      "382/382 [==============================] - 666s 2s/step - loss: 0.3442 - accuracy: 0.8841 - val_loss: 0.3547 - val_accuracy: 0.8740\n",
      "Epoch 10/15\n",
      "382/382 [==============================] - 665s 2s/step - loss: 0.3433 - accuracy: 0.8795 - val_loss: 0.4333 - val_accuracy: 0.8681\n",
      "Epoch 11/15\n",
      "382/382 [==============================] - 663s 2s/step - loss: 0.3196 - accuracy: 0.8911 - val_loss: 0.3885 - val_accuracy: 0.8694\n",
      "Epoch 12/15\n",
      "382/382 [==============================] - 664s 2s/step - loss: 0.3072 - accuracy: 0.8929 - val_loss: 0.3995 - val_accuracy: 0.8655\n",
      "Epoch 13/15\n",
      "382/382 [==============================] - 675s 2s/step - loss: 0.3128 - accuracy: 0.8915 - val_loss: 0.3761 - val_accuracy: 0.8766\n",
      "Epoch 14/15\n",
      "382/382 [==============================] - 586s 2s/step - loss: 0.2828 - accuracy: 0.9013 - val_loss: 0.3941 - val_accuracy: 0.8576\n",
      "Epoch 15/15\n",
      "382/382 [==============================] - 540s 1s/step - loss: 0.2739 - accuracy: 0.9057 - val_loss: 0.3073 - val_accuracy: 0.8963\n"
     ]
    }
   ],
   "source": [
    "history = model.fit(train_generator, epochs=15, validation_data=validation_generator)\n"
   ]
  },
  {
   "cell_type": "code",
   "execution_count": 20,
   "id": "9a84b0c0",
   "metadata": {},
   "outputs": [
    {
     "data": {
      "text/plain": [
       "<keras.src.callbacks.History at 0x21b83bbdbb0>"
      ]
     },
     "execution_count": 20,
     "metadata": {},
     "output_type": "execute_result"
    }
   ],
   "source": [
    "history"
   ]
  },
  {
   "cell_type": "code",
   "execution_count": 21,
   "id": "c74daaba",
   "metadata": {},
   "outputs": [],
   "source": [
    "acc = history.history['accuracy']\n",
    "val_acc = history.history['val_accuracy']\n",
    "\n",
    "loss = history.history['loss']\n",
    "val_loss = history.history['val_loss']"
   ]
  },
  {
   "cell_type": "code",
   "execution_count": 22,
   "id": "c56dfd2a",
   "metadata": {},
   "outputs": [
    {
     "data": {
      "text/plain": [
       "[1.3163326978683472,\n",
       " 0.6545441150665283,\n",
       " 0.5533100962638855,\n",
       " 0.47107505798339844,\n",
       " 0.4228363335132599]"
      ]
     },
     "execution_count": 22,
     "metadata": {},
     "output_type": "execute_result"
    }
   ],
   "source": [
    "history.history['loss'][:5] # show loss for first 5 epochs\n"
   ]
  },
  {
   "cell_type": "code",
   "execution_count": 23,
   "id": "488596d4",
   "metadata": {},
   "outputs": [],
   "source": [
    "import matplotlib.pyplot as plt\n"
   ]
  },
  {
   "cell_type": "code",
   "execution_count": 24,
   "id": "8ec1a129",
   "metadata": {},
   "outputs": [
    {
     "data": {
      "text/plain": [
       "Text(0.5, 1.0, 'Training and Validation Accuracy')"
      ]
     },
     "execution_count": 24,
     "metadata": {},
     "output_type": "execute_result"
    },
    {
     "data": {
      "image/png": "[encoded data removed]",
      "text/plain": [
       "<Figure size 720x720 with 1 Axes>"
      ]
     },
     "metadata": {
      "needs_background": "light"
     },
     "output_type": "display_data"
    }
   ],
   "source": [
    "plt.figure(figsize=(10, 10))\n",
    "plt.subplot(1, 2, 1)\n",
    "plt.plot(range(len(acc)), acc, label='Training Accuracy')\n",
    "plt.plot(range(len(val_acc)), val_acc, label='Validation Accuracy')\n",
    "plt.legend(loc='lower right')\n",
    "plt.title('Training and Validation Accuracy')"
   ]
  },
  {
   "cell_type": "code",
   "execution_count": 25,
   "id": "d071671b",
   "metadata": {},
   "outputs": [
    {
     "data": {
      "image/png": "[encoded data removed]",
      "text/plain": [
       "<Figure size 720x720 with 1 Axes>"
      ]
     },
     "metadata": {
      "needs_background": "light"
     },
     "output_type": "display_data"
    }
   ],
   "source": [
    "plt.figure(figsize=(10, 10))\n",
    "EPOCHS = len(loss) # or len(val_loss)\n",
    "plt.subplot(1, 2, 2)\n",
    "plt.plot(range(EPOCHS), loss, label='Training Loss')\n",
    "plt.plot(range(EPOCHS), val_loss, label='Validation Loss')\n",
    "plt.legend(loc='upper right')\n",
    "plt.title('Training and Validation Loss')\n",
    "plt.show()\n"
   ]
  },
  {
   "cell_type": "code",
   "execution_count": 26,
   "id": "c81c5e85",
   "metadata": {},
   "outputs": [
    {
     "name": "stdout",
     "output_type": "stream",
     "text": [
      "53/53 [==============================] - 64s 1s/step - loss: 0.2681 - accuracy: 0.9161\n"
     ]
    }
   ],
   "source": [
    "test_loss, test_accuracy = model.evaluate(test_generator)\n"
   ]
  },
  {
   "cell_type": "code",
   "execution_count": 27,
   "id": "640a1237",
   "metadata": {},
   "outputs": [
    {
     "data": {
      "text/plain": [
       "0.9160756468772888"
      ]
     },
     "execution_count": 27,
     "metadata": {},
     "output_type": "execute_result"
    }
   ],
   "source": [
    "test_accuracy"
   ]
  },
  {
   "cell_type": "code",
   "execution_count": 28,
   "id": "f4bc06b1",
   "metadata": {},
   "outputs": [],
   "source": [
    "y_true = test_generator.classes\n"
   ]
  },
  {
   "cell_type": "code",
   "execution_count": 50,
   "id": "fc9cee66",
   "metadata": {},
   "outputs": [
    {
     "name": "stdout",
     "output_type": "stream",
     "text": [
      "53/53 [==============================] - 72s 1s/step\n"
     ]
    }
   ],
   "source": [
    "import numpy as np\n",
    "from sklearn.metrics import classification_report\n",
    "y_true = test_generator.classes\n",
    "y_pred = model.predict(test_generator)\n",
    "y_pred = np.argmax(y_pred, axis=1) \n",
    "report = classification_report(y_true, y_pred)\n"
   ]
  },
  {
   "cell_type": "code",
   "execution_count": 52,
   "id": "3bd9acf8",
   "metadata": {},
   "outputs": [
    {
     "name": "stdout",
     "output_type": "stream",
     "text": [
      "              precision    recall  f1-score   support\n",
      "\n",
      "           0       0.91      1.00      0.95        30\n",
      "           1       0.96      0.87      0.91        30\n",
      "           2       0.88      1.00      0.94        30\n",
      "           3       1.00      0.83      0.91        30\n",
      "           4       1.00      0.90      0.95        30\n",
      "           5       0.97      0.97      0.97        30\n",
      "           6       0.91      0.97      0.94        30\n",
      "           7       0.97      1.00      0.98        30\n",
      "           8       1.00      1.00      1.00        30\n",
      "           9       1.00      0.87      0.93        30\n",
      "          10       0.89      0.83      0.86        30\n",
      "          11       0.85      0.93      0.89        30\n",
      "          12       1.00      1.00      1.00        30\n",
      "          13       1.00      0.83      0.91        30\n",
      "          14       0.89      0.83      0.86        30\n",
      "          15       0.94      1.00      0.97        30\n",
      "          16       0.81      0.97      0.88        30\n",
      "          17       0.90      0.93      0.92        30\n",
      "          18       0.97      0.97      0.97        30\n",
      "          19       0.92      0.80      0.86        30\n",
      "          20       0.93      0.87      0.90        15\n",
      "          21       1.00      1.00      1.00         4\n",
      "          22       0.80      1.00      0.89         4\n",
      "          23       1.00      0.75      0.86         4\n",
      "          24       0.97      1.00      0.98        30\n",
      "          25       0.91      1.00      0.95        30\n",
      "          26       0.74      0.87      0.80        30\n",
      "          27       0.66      0.70      0.68        30\n",
      "          28       0.71      0.67      0.69        30\n",
      "          29       0.89      0.83      0.86        30\n",
      "          30       0.78      0.70      0.74        10\n",
      "          31       1.00      0.89      0.94         9\n",
      "          32       0.82      0.90      0.86        20\n",
      "\n",
      "    accuracy                           0.90       846\n",
      "   macro avg       0.91      0.90      0.90       846\n",
      "weighted avg       0.91      0.90      0.90       846\n",
      "\n"
     ]
    }
   ],
   "source": [
    "print(report)"
   ]
  },
  {
   "cell_type": "code",
   "execution_count": 47,
   "id": "eaa5308d",
   "metadata": {},
   "outputs": [
    {
     "name": "stdout",
     "output_type": "stream",
     "text": [
      "53/53 [==============================] - 68s 1s/step\n",
      "       Precision  Recall  F1-Score  Support\n",
      "Class                                      \n",
      "0           0.93    0.90      0.92       30\n",
      "1           0.93    0.90      0.92       30\n",
      "2           0.86    1.00      0.92       30\n",
      "3           0.90    0.87      0.88       30\n",
      "4           0.96    0.87      0.91       30\n",
      "5           1.00    0.97      0.98       30\n",
      "6           0.90    0.87      0.88       30\n",
      "7           0.81    1.00      0.90       30\n",
      "8           1.00    1.00      1.00       30\n",
      "9           0.89    0.83      0.86       30\n",
      "10          0.97    0.93      0.95       30\n",
      "11          0.91    0.97      0.94       30\n",
      "12          0.97    1.00      0.98       30\n",
      "13          1.00    0.87      0.93       30\n",
      "14          0.93    0.83      0.88       30\n",
      "15          0.94    0.97      0.95       30\n",
      "16          0.75    0.90      0.82       30\n",
      "17          0.93    0.87      0.90       30\n",
      "18          0.97    0.93      0.95       30\n",
      "19          0.92    0.80      0.86       30\n",
      "20          0.81    0.87      0.84       15\n",
      "21          1.00    1.00      1.00        4\n",
      "22          0.67    1.00      0.80        4\n",
      "23          1.00    0.50      0.67        4\n",
      "24          1.00    0.97      0.98       30\n",
      "25          0.97    1.00      0.98       30\n",
      "26          0.82    0.90      0.86       30\n",
      "27          0.63    0.73      0.68       30\n",
      "28          0.81    0.70      0.75       30\n",
      "29          0.90    0.87      0.88       30\n",
      "30          0.90    0.90      0.90       10\n",
      "31          1.00    0.89      0.94        9\n",
      "32          0.90    0.90      0.90       20\n"
     ]
    }
   ],
   "source": [
    "import numpy as np\n",
    "from sklearn.metrics import classification_report\n",
    "import pandas as pd\n",
    "\n",
    "y_true = test_generator.classes\n",
    "y_pred = model.predict(test_generator)\n",
    "y_pred = np.argmax(y_pred, axis=1)\n",
    "\n",
    "report_str = classification_report(y_true, y_pred)\n",
    "report_list = [line.split() for line in report_str.split('\\n')[2:-5]]  # Extract relevant lines and split into list of lists\n",
    "\n",
    "report_df = pd.DataFrame(report_list, columns=['Class', 'Precision', 'Recall', 'F1-Score', 'Support'])\n",
    "report_df = report_df.set_index('Class')  \n",
    "report_df = report_df.apply(pd.to_numeric)\n",
    "\n",
    "print(report_df)\n"
   ]
  },
  {
   "cell_type": "code",
   "execution_count": 49,
   "id": "f98045f9",
   "metadata": {},
   "outputs": [],
   "source": [
    "report_df.to_csv('Classification report saved as classification_report.csv')"
   ]
  },
  {
   "cell_type": "code",
   "execution_count": 30,
   "id": "148abb35",
   "metadata": {},
   "outputs": [
    {
     "data": {
      "text/html": [
       "<div>\n",
       "<style scoped>\n",
       "    .dataframe tbody tr th:only-of-type {\n",
       "        vertical-align: middle;\n",
       "    }\n",
       "\n",
       "    .dataframe tbody tr th {\n",
       "        vertical-align: top;\n",
       "    }\n",
       "\n",
       "    .dataframe thead th {\n",
       "        text-align: right;\n",
       "    }\n",
       "</style>\n",
       "<table border=\"1\" class=\"dataframe\">\n",
       "  <thead>\n",
       "    <tr style=\"text-align: right;\">\n",
       "      <th></th>\n",
       "      <th>Class</th>\n",
       "      <th>Precision</th>\n",
       "      <th>Recall</th>\n",
       "      <th>F1-Score</th>\n",
       "      <th>Support</th>\n",
       "    </tr>\n",
       "  </thead>\n",
       "  <tbody>\n",
       "    <tr>\n",
       "      <th>0</th>\n",
       "      <td>Apple_Black_Rot</td>\n",
       "      <td>1.00</td>\n",
       "      <td>0.93</td>\n",
       "      <td>0.97</td>\n",
       "      <td>30</td>\n",
       "    </tr>\n",
       "    <tr>\n",
       "      <th>1</th>\n",
       "      <td>Apple_Cedar_Rust</td>\n",
       "      <td>0.97</td>\n",
       "      <td>0.97</td>\n",
       "      <td>0.97</td>\n",
       "      <td>30</td>\n",
       "    </tr>\n",
       "    <tr>\n",
       "      <th>2</th>\n",
       "      <td>Apple_Healthy</td>\n",
       "      <td>0.91</td>\n",
       "      <td>0.97</td>\n",
       "      <td>0.94</td>\n",
       "      <td>30</td>\n",
       "    </tr>\n",
       "    <tr>\n",
       "      <th>3</th>\n",
       "      <td>Apple_Scab</td>\n",
       "      <td>0.94</td>\n",
       "      <td>0.97</td>\n",
       "      <td>0.95</td>\n",
       "      <td>30</td>\n",
       "    </tr>\n",
       "    <tr>\n",
       "      <th>4</th>\n",
       "      <td>Cherry_Healthy</td>\n",
       "      <td>1.00</td>\n",
       "      <td>1.00</td>\n",
       "      <td>1.00</td>\n",
       "      <td>30</td>\n",
       "    </tr>\n",
       "    <tr>\n",
       "      <th>5</th>\n",
       "      <td>Cherry_Powdery_Mildew</td>\n",
       "      <td>0.91</td>\n",
       "      <td>1.00</td>\n",
       "      <td>0.95</td>\n",
       "      <td>30</td>\n",
       "    </tr>\n",
       "    <tr>\n",
       "      <th>6</th>\n",
       "      <td>Corn_Cercospora_Leaf_Spot</td>\n",
       "      <td>0.94</td>\n",
       "      <td>0.97</td>\n",
       "      <td>0.95</td>\n",
       "      <td>30</td>\n",
       "    </tr>\n",
       "    <tr>\n",
       "      <th>7</th>\n",
       "      <td>Corn_Common_Rust</td>\n",
       "      <td>1.00</td>\n",
       "      <td>1.00</td>\n",
       "      <td>1.00</td>\n",
       "      <td>30</td>\n",
       "    </tr>\n",
       "    <tr>\n",
       "      <th>8</th>\n",
       "      <td>Corn_Healthy</td>\n",
       "      <td>1.00</td>\n",
       "      <td>1.00</td>\n",
       "      <td>1.00</td>\n",
       "      <td>30</td>\n",
       "    </tr>\n",
       "    <tr>\n",
       "      <th>9</th>\n",
       "      <td>Corn_Northern_Leaf_Blight</td>\n",
       "      <td>0.97</td>\n",
       "      <td>0.93</td>\n",
       "      <td>0.95</td>\n",
       "      <td>30</td>\n",
       "    </tr>\n",
       "    <tr>\n",
       "      <th>10</th>\n",
       "      <td>Grape_Black_Rot</td>\n",
       "      <td>1.00</td>\n",
       "      <td>0.63</td>\n",
       "      <td>0.78</td>\n",
       "      <td>30</td>\n",
       "    </tr>\n",
       "    <tr>\n",
       "      <th>11</th>\n",
       "      <td>Grape_Esca_Black_Measles</td>\n",
       "      <td>0.73</td>\n",
       "      <td>1.00</td>\n",
       "      <td>0.85</td>\n",
       "      <td>30</td>\n",
       "    </tr>\n",
       "    <tr>\n",
       "      <th>12</th>\n",
       "      <td>Grape_Healthy</td>\n",
       "      <td>1.00</td>\n",
       "      <td>0.97</td>\n",
       "      <td>0.98</td>\n",
       "      <td>30</td>\n",
       "    </tr>\n",
       "    <tr>\n",
       "      <th>13</th>\n",
       "      <td>Grape_Leaf_Blight</td>\n",
       "      <td>0.97</td>\n",
       "      <td>1.00</td>\n",
       "      <td>0.98</td>\n",
       "      <td>30</td>\n",
       "    </tr>\n",
       "    <tr>\n",
       "      <th>14</th>\n",
       "      <td>Peach_Bacterial_Spot</td>\n",
       "      <td>1.00</td>\n",
       "      <td>0.93</td>\n",
       "      <td>0.97</td>\n",
       "      <td>30</td>\n",
       "    </tr>\n",
       "    <tr>\n",
       "      <th>15</th>\n",
       "      <td>Peach_Healthy</td>\n",
       "      <td>1.00</td>\n",
       "      <td>0.93</td>\n",
       "      <td>0.97</td>\n",
       "      <td>30</td>\n",
       "    </tr>\n",
       "    <tr>\n",
       "      <th>16</th>\n",
       "      <td>Pepper_bell_Bacterial_spot</td>\n",
       "      <td>0.83</td>\n",
       "      <td>1.00</td>\n",
       "      <td>0.91</td>\n",
       "      <td>30</td>\n",
       "    </tr>\n",
       "    <tr>\n",
       "      <th>17</th>\n",
       "      <td>Pepper_bell_healthy</td>\n",
       "      <td>1.00</td>\n",
       "      <td>0.83</td>\n",
       "      <td>0.91</td>\n",
       "      <td>30</td>\n",
       "    </tr>\n",
       "    <tr>\n",
       "      <th>18</th>\n",
       "      <td>Potato_Early_blight</td>\n",
       "      <td>1.00</td>\n",
       "      <td>0.93</td>\n",
       "      <td>0.97</td>\n",
       "      <td>30</td>\n",
       "    </tr>\n",
       "    <tr>\n",
       "      <th>19</th>\n",
       "      <td>Potato_Late_blight</td>\n",
       "      <td>0.97</td>\n",
       "      <td>0.93</td>\n",
       "      <td>0.95</td>\n",
       "      <td>30</td>\n",
       "    </tr>\n",
       "    <tr>\n",
       "      <th>20</th>\n",
       "      <td>Potato_healthy</td>\n",
       "      <td>0.88</td>\n",
       "      <td>1.00</td>\n",
       "      <td>0.94</td>\n",
       "      <td>15</td>\n",
       "    </tr>\n",
       "    <tr>\n",
       "      <th>21</th>\n",
       "      <td>Rice_Bacterial_leaf_blight</td>\n",
       "      <td>1.00</td>\n",
       "      <td>1.00</td>\n",
       "      <td>1.00</td>\n",
       "      <td>4</td>\n",
       "    </tr>\n",
       "    <tr>\n",
       "      <th>22</th>\n",
       "      <td>Rice_Brown_spot</td>\n",
       "      <td>1.00</td>\n",
       "      <td>1.00</td>\n",
       "      <td>1.00</td>\n",
       "      <td>4</td>\n",
       "    </tr>\n",
       "    <tr>\n",
       "      <th>23</th>\n",
       "      <td>Rice_Leaf_smut</td>\n",
       "      <td>1.00</td>\n",
       "      <td>1.00</td>\n",
       "      <td>1.00</td>\n",
       "      <td>4</td>\n",
       "    </tr>\n",
       "    <tr>\n",
       "      <th>24</th>\n",
       "      <td>Strawberry_Healthy</td>\n",
       "      <td>1.00</td>\n",
       "      <td>1.00</td>\n",
       "      <td>1.00</td>\n",
       "      <td>30</td>\n",
       "    </tr>\n",
       "    <tr>\n",
       "      <th>25</th>\n",
       "      <td>Strawberry_Leaf_Scorch</td>\n",
       "      <td>1.00</td>\n",
       "      <td>1.00</td>\n",
       "      <td>1.00</td>\n",
       "      <td>30</td>\n",
       "    </tr>\n",
       "    <tr>\n",
       "      <th>26</th>\n",
       "      <td>Tomato_Bacterial_spot</td>\n",
       "      <td>0.97</td>\n",
       "      <td>1.00</td>\n",
       "      <td>0.98</td>\n",
       "      <td>30</td>\n",
       "    </tr>\n",
       "    <tr>\n",
       "      <th>27</th>\n",
       "      <td>Tomato_Early_blight</td>\n",
       "      <td>0.88</td>\n",
       "      <td>0.93</td>\n",
       "      <td>0.90</td>\n",
       "      <td>30</td>\n",
       "    </tr>\n",
       "    <tr>\n",
       "      <th>28</th>\n",
       "      <td>Tomato_Late_blight</td>\n",
       "      <td>1.00</td>\n",
       "      <td>0.73</td>\n",
       "      <td>0.85</td>\n",
       "      <td>30</td>\n",
       "    </tr>\n",
       "    <tr>\n",
       "      <th>29</th>\n",
       "      <td>Tomato_Leaf_Mold</td>\n",
       "      <td>0.86</td>\n",
       "      <td>1.00</td>\n",
       "      <td>0.92</td>\n",
       "      <td>30</td>\n",
       "    </tr>\n",
       "    <tr>\n",
       "      <th>30</th>\n",
       "      <td>Wheat_Healthy</td>\n",
       "      <td>1.00</td>\n",
       "      <td>1.00</td>\n",
       "      <td>1.00</td>\n",
       "      <td>10</td>\n",
       "    </tr>\n",
       "    <tr>\n",
       "      <th>31</th>\n",
       "      <td>Wheat_Septoria</td>\n",
       "      <td>1.00</td>\n",
       "      <td>1.00</td>\n",
       "      <td>1.00</td>\n",
       "      <td>9</td>\n",
       "    </tr>\n",
       "    <tr>\n",
       "      <th>32</th>\n",
       "      <td>Wheat_Stripe_Rust</td>\n",
       "      <td>1.00</td>\n",
       "      <td>1.00</td>\n",
       "      <td>1.00</td>\n",
       "      <td>20</td>\n",
       "    </tr>\n",
       "  </tbody>\n",
       "</table>\n",
       "</div>"
      ],
      "text/plain": [
       "                         Class  Precision  Recall  F1-Score  Support\n",
       "0              Apple_Black_Rot       1.00    0.93      0.97       30\n",
       "1             Apple_Cedar_Rust       0.97    0.97      0.97       30\n",
       "2                Apple_Healthy       0.91    0.97      0.94       30\n",
       "3                   Apple_Scab       0.94    0.97      0.95       30\n",
       "4               Cherry_Healthy       1.00    1.00      1.00       30\n",
       "5        Cherry_Powdery_Mildew       0.91    1.00      0.95       30\n",
       "6    Corn_Cercospora_Leaf_Spot       0.94    0.97      0.95       30\n",
       "7             Corn_Common_Rust       1.00    1.00      1.00       30\n",
       "8                 Corn_Healthy       1.00    1.00      1.00       30\n",
       "9    Corn_Northern_Leaf_Blight       0.97    0.93      0.95       30\n",
       "10             Grape_Black_Rot       1.00    0.63      0.78       30\n",
       "11    Grape_Esca_Black_Measles       0.73    1.00      0.85       30\n",
       "12               Grape_Healthy       1.00    0.97      0.98       30\n",
       "13           Grape_Leaf_Blight       0.97    1.00      0.98       30\n",
       "14        Peach_Bacterial_Spot       1.00    0.93      0.97       30\n",
       "15               Peach_Healthy       1.00    0.93      0.97       30\n",
       "16  Pepper_bell_Bacterial_spot       0.83    1.00      0.91       30\n",
       "17         Pepper_bell_healthy       1.00    0.83      0.91       30\n",
       "18         Potato_Early_blight       1.00    0.93      0.97       30\n",
       "19          Potato_Late_blight       0.97    0.93      0.95       30\n",
       "20              Potato_healthy       0.88    1.00      0.94       15\n",
       "21  Rice_Bacterial_leaf_blight       1.00    1.00      1.00        4\n",
       "22             Rice_Brown_spot       1.00    1.00      1.00        4\n",
       "23              Rice_Leaf_smut       1.00    1.00      1.00        4\n",
       "24          Strawberry_Healthy       1.00    1.00      1.00       30\n",
       "25      Strawberry_Leaf_Scorch       1.00    1.00      1.00       30\n",
       "26       Tomato_Bacterial_spot       0.97    1.00      0.98       30\n",
       "27         Tomato_Early_blight       0.88    0.93      0.90       30\n",
       "28          Tomato_Late_blight       1.00    0.73      0.85       30\n",
       "29            Tomato_Leaf_Mold       0.86    1.00      0.92       30\n",
       "30               Wheat_Healthy       1.00    1.00      1.00       10\n",
       "31              Wheat_Septoria       1.00    1.00      1.00        9\n",
       "32           Wheat_Stripe_Rust       1.00    1.00      1.00       20"
      ]
     },
     "execution_count": 30,
     "metadata": {},
     "output_type": "execute_result"
    }
   ],
   "source": [
    "class_mapping = {\n",
    "    0: 'Apple_Black_Rot',\n",
    "    1: 'Apple_Cedar_Rust',\n",
    "    2: 'Apple_Healthy',\n",
    "    3: 'Apple_Scab',\n",
    "    4: 'Cherry_Healthy',\n",
    "    5: 'Cherry_Powdery_Mildew',\n",
    "    6: 'Corn_Cercospora_Leaf_Spot',\n",
    "    7: 'Corn_Common_Rust',\n",
    "    8: 'Corn_Healthy',\n",
    "    9: 'Corn_Northern_Leaf_Blight',\n",
    "    10: 'Grape_Black_Rot',\n",
    "    11: 'Grape_Esca_Black_Measles',\n",
    "    12: 'Grape_Healthy',\n",
    "    13: 'Grape_Leaf_Blight',\n",
    "    14: 'Peach_Bacterial_Spot',\n",
    "    15: 'Peach_Healthy',\n",
    "    16: 'Pepper_bell_Bacterial_spot',\n",
    "    17: 'Pepper_bell_healthy',\n",
    "    18: 'Potato_Early_blight',\n",
    "    19: 'Potato_Late_blight',\n",
    "    20: 'Potato_healthy',\n",
    "    21: 'Rice_Bacterial_leaf_blight',\n",
    "    22: 'Rice_Brown_spot',\n",
    "    23: 'Rice_Leaf_smut',\n",
    "    24: 'Strawberry_Healthy',\n",
    "    25: 'Strawberry_Leaf_Scorch',\n",
    "    26: 'Tomato_Bacterial_spot',\n",
    "    27: 'Tomato_Early_blight',\n",
    "    28: 'Tomato_Late_blight',\n",
    "    29: 'Tomato_Leaf_Mold',\n",
    "    30: 'Wheat_Healthy',\n",
    "    31: 'Wheat_Septoria',\n",
    "    32: 'Wheat_Stripe_Rust'\n",
    "}\n",
    "\n",
    "precision = [1.00, 0.97, 0.91, 0.94, 1.00, 0.91, 0.94, 1.00, 1.00, 0.97, 1.00, 0.73, 1.00, 0.97, 1.00, 1.00, 0.83, 1.00, 1.00, 0.97, 0.88, 1.00, 1.00, 1.00, 1.00, 1.00, 0.97, 0.88, 1.00, 0.86, 1.00, 1.00, 1.00]\n",
    "recall = [0.93, 0.97, 0.97, 0.97, 1.00, 1.00, 0.97, 1.00, 1.00, 0.93, 0.63, 1.00, 0.97, 1.00, 0.93, 0.93, 1.00, 0.83, 0.93, 0.93, 1.00, 1.00, 1.00, 1.00, 1.00, 1.00, 1.00, 0.93, 0.73, 1.00, 1.00, 1.00, 1.00, 1.00]\n",
    "f1_score = [0.97, 0.97, 0.94, 0.95, 1.00, 0.95, 0.95, 1.00, 1.00, 0.95, 0.78, 0.85, 0.98, 0.98, 0.97, 0.97, 0.91, 0.91, 0.97, 0.95, 0.94, 1.00, 1.00, 1.00, 1.00, 1.00, 0.98, 0.90, 0.85, 0.92, 1.00, 1.00, 1.00, 1.00]\n",
    "support = [30, 30, 30, 30, 30, 30, 30, 30, 30, 30, 30, 30, 30, 30, 30, 30, 30, 30, 30, 30, 15, 4, 4, 4, 30, 30, 30, 30, 30, 30, 10, 9, 20]\n",
    "\n",
    "import pandas as pd\n",
    "\n",
    "class_names = [class_mapping[i] for i in range(len(precision))]\n",
    "\n",
    "table_data = []\n",
    "for i in range(len(precision)):\n",
    "    table_data.append([class_names[i], precision[i], recall[i], f1_score[i], support[i]])\n",
    "\n",
    "Classification_Metrics = pd.DataFrame(table_data, columns=['Class', 'Precision', 'Recall', 'F1-Score', 'Support'])\n",
    "\n",
    "Classification_Metrics\n"
   ]
  },
  {
   "cell_type": "code",
   "execution_count": 35,
   "id": "f3cdd8da",
   "metadata": {},
   "outputs": [],
   "source": [
    "Classification_Metrics.to_csv('classificationmetrics.csv')"
   ]
  },
  {
   "cell_type": "code",
   "execution_count": 31,
   "id": "cb42d0db",
   "metadata": {},
   "outputs": [
    {
     "data": {
      "image/png": "[encoded data removed]",
      "text/plain": [
       "<Figure size 864x864 with 1 Axes>"
      ]
     },
     "metadata": {
      "needs_background": "light"
     },
     "output_type": "display_data"
    }
   ],
   "source": [
    "from sklearn.metrics import confusion_matrix\n",
    "import matplotlib.pyplot as plt\n",
    "import seaborn as sns\n",
    "\n",
    "cm = confusion_matrix(y_true, y_pred)\n",
    "fig, ax = plt.subplots(figsize=(12, 12))\n",
    "sns.heatmap(cm, annot=True, cmap='Blues', fmt='d', cbar=False, ax=ax)\n",
    "plt.xlabel('Predicted Labels', fontsize=12)\n",
    "plt.ylabel('True Labels', fontsize=12)\n",
    "plt.title('Confusion Matrix', fontsize=14)\n",
    "ax.set_xticklabels(class_names, rotation=90, ha='center')\n",
    "ax.set_yticklabels(class_names, rotation=0, va='center')\n",
    "\n",
    "plt.tight_layout()\n",
    "plt.show()\n"
   ]
  },
  {
   "cell_type": "code",
   "execution_count": 33,
   "id": "577308db",
   "metadata": {},
   "outputs": [],
   "source": [
    "model.save('C:/Thesis/PlantVillageinceptionResNet.h5')\n"
   ]
  },
  {
   "cell_type": "code",
   "execution_count": null,
   "id": "f5edc79f",
   "metadata": {},
   "outputs": [],
   "source": []
  },
  {
   "cell_type": "code",
   "execution_count": null,
   "id": "1f2e343e",
   "metadata": {},
   "outputs": [],
   "source": []
  }
 ],
 "metadata": {
  "kernelspec": {
   "display_name": "Python 3 (ipykernel)",
   "language": "python",
   "name": "python3"
  },
  "language_info": {
   "codemirror_mode": {
    "name": "ipython",
    "version": 3
   },
   "file_extension": ".py",
   "mimetype": "text/x-python",
   "name": "python",
   "nbconvert_exporter": "python",
   "pygments_lexer": "ipython3",
   "version": "3.9.7"
  }
 },
 "nbformat": 4,
 "nbformat_minor": 5
}
